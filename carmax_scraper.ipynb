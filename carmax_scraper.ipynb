{
 "cells": [
  {
   "cell_type": "code",
   "execution_count": null,
   "metadata": {},
   "outputs": [],
   "source": [
    "\"\"\"\n",
    "DATE: 8/29/2020\n",
    "AUTHOR: DANIEL WU\n",
    "PURPOSE: Scrape Carmax Store Locations\n",
    "LAST UPDATE:\n",
    "\"\"\"\n",
    "\n",
    "import requests\n",
    "from bs4 import BeautifulSoup\n",
    "\n",
    "from requests_html import HTMLSession\n",
    "from requests_html import HTML\n",
    "\n",
    "import os\n",
    "import time\n",
    "import datetime\n",
    "import pandas as pd\n",
    "import json\n",
    "import re\n",
    "\n",
    "def pause():\n",
    "    programPause = input(\"Press the <ENTER> key to continue or type any letter to break loop\")\n",
    "    return programPause"
   ]
  },
  {
   "cell_type": "code",
   "execution_count": null,
   "metadata": {},
   "outputs": [],
   "source": [
    "root_dir = '/Users/user/Desktop/Jupyter Notebook'\n",
    "\n",
    "root_url = 'https://carmax.com'\n",
    "sub1_url = '/stores'\n",
    "\n",
    "headers = {'User-Agent': \n",
    "           'Mozilla/5.0 (Windows NT 6.1; WOW64) AppleWebKit/537.36 (KHTML, like Gecko) Chrome/56.0.2924.76 Safari/537.36',\n",
    "           \"Upgrade-Insecure-Requests\": \"1\",\"DNT\": \"1\",\"Accept\": \n",
    "           \"text/html,application/xhtml+xml,application/xml;q=0.9,*/*;q=0.8\",\n",
    "           \"Accept-Language\": \"en-US,en;q=0.5\",\"Accept-Encoding\": \n",
    "           \"gzip, deflate\"}"
   ]
  },
  {
   "cell_type": "code",
   "execution_count": null,
   "metadata": {
    "scrolled": true
   },
   "outputs": [],
   "source": [
    "# Website Information at the State-Level\n",
    "\n",
    "def req(subpath):\n",
    "    r = requests.get(root_url + subpath, headers=headers)\n",
    "    html = r.content\n",
    "    soup = BeautifulSoup(html)\n",
    "    return soup\n",
    "\n",
    "soup = req(sub1_url)\n",
    "\n",
    "st_match = soup.find_all('a', class_=\"stores-list-cabinet--single\")"
   ]
  },
  {
   "cell_type": "code",
   "execution_count": null,
   "metadata": {
    "scrolled": true
   },
   "outputs": [],
   "source": [
    "# City-level\n",
    "\n",
    "addr = []\n",
    "\n",
    "def srch(soup_obj):    \n",
    "    for obj in soup_obj:        \n",
    "        sub_url = obj['href']\n",
    "        city_soup = req(sub_url)\n",
    "        addr_match = city_soup.find('a', class_=\"kmx-typography--body-2 sdp-clickable-address\")\n",
    "        try:\n",
    "            addr.append(str(addr_match.text))         \n",
    "        except:\n",
    "            pass \n",
    "\n",
    "for state in st_match:        \n",
    "    \n",
    "    sub2_url = state['href']    \n",
    "    st_soup = req(sub2_url)    \n",
    "    city_match1 = st_soup.find_all('a', class_=\"stores-list-cabinet--single\")        \n",
    "    \n",
    "    try:\n",
    "        city_match2 = st_soup.find_all('a', class_=\"store-link kmx-typography--display-2 kmx-button\")         \n",
    "        srch(city_match2)        \n",
    "    except:\n",
    "        pass \n",
    "        \n",
    "    srch(city_match1)\n",
    "    \n",
    "addr_clean = [x.replace('\\r\\n', '') for x in addr]\n",
    "addr_clean = [\" \".join(re.split(\"\\s+\", x, flags=re.UNICODE)) for x in addr_clean]\n",
    "addr_clean = [x.strip() for x in addr_clean]"
   ]
  },
  {
   "cell_type": "code",
   "execution_count": null,
   "metadata": {},
   "outputs": [],
   "source": [
    "street_addr = []\n",
    "state_zip = []\n",
    "\n",
    "addr_split = [x.split(',') for x in addr_clean]\n",
    "\n",
    "for i in addr_split:\n",
    "    street_addr.append(i[0])\n",
    "    state_zip.append(i[1].strip())\n",
    "\n",
    "zip_split = [x.split(' ') for x in state_zip]\n",
    "\n",
    "state = []\n",
    "zipcode = []\n",
    "\n",
    "for i in zip_split:    \n",
    "    state.append(i[0])\n",
    "    zipcode.append(i[1])\n",
    "    \n"
   ]
  },
  {
   "cell_type": "code",
   "execution_count": null,
   "metadata": {},
   "outputs": [],
   "source": [
    "df = pd.DataFrame()\n",
    "\n",
    "df['Street_Addr'] = street_addr\n",
    "df['State'] = state\n",
    "df['Zip'] = zipcode"
   ]
  },
  {
   "cell_type": "code",
   "execution_count": null,
   "metadata": {},
   "outputs": [],
   "source": [
    "df.to_excel(\"carmax_addr.xlsx\")"
   ]
  }
 ],
 "metadata": {
  "kernelspec": {
   "display_name": "Python 3",
   "language": "python",
   "name": "python3"
  },
  "language_info": {
   "codemirror_mode": {
    "name": "ipython",
    "version": 3
   },
   "file_extension": ".py",
   "mimetype": "text/x-python",
   "name": "python",
   "nbconvert_exporter": "python",
   "pygments_lexer": "ipython3",
   "version": "3.8.8"
  },
  "toc": {
   "base_numbering": 1,
   "nav_menu": {},
   "number_sections": true,
   "sideBar": true,
   "skip_h1_title": false,
   "title_cell": "Table of Contents",
   "title_sidebar": "Contents",
   "toc_cell": false,
   "toc_position": {},
   "toc_section_display": true,
   "toc_window_display": false
  }
 },
 "nbformat": 4,
 "nbformat_minor": 4
}
