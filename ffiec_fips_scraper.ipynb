{
 "cells": [
  {
   "cell_type": "code",
   "execution_count": 49,
   "metadata": {},
   "outputs": [],
   "source": [
    "\"\"\"\n",
    "DATE: 9/29/2020\n",
    "AUTHOR: DANIEL WU\n",
    "PURPOSE: Scrape FIPS code of Carmax addresses         \n",
    "LAST UPDATE:\n",
    "\"\"\"\n",
    "\n",
    "from selenium import webdriver\n",
    "from selenium.webdriver.common.keys import Keys\n",
    "from selenium.webdriver.common.by import By\n",
    "from selenium.webdriver.support.ui import WebDriverWait\n",
    "from selenium.webdriver.support import expected_conditions as EC\n",
    "from selenium.common.exceptions import TimeoutException\n",
    "\n",
    "import os\n",
    "import time\n",
    "import datetime\n",
    "import pandas as pd\n",
    "import json\n",
    "import re\n",
    "\n",
    "pd.set_option('display.max_rows', 500)\n",
    "\n",
    "def pause():\n",
    "    programPause = input(\"Press the <ENTER> key to continue or type any letter to break loop\")\n",
    "    return programPause"
   ]
  },
  {
   "cell_type": "code",
   "execution_count": 50,
   "metadata": {},
   "outputs": [],
   "source": [
    "# Webscraping Parameters\n",
    "path_to_chromedriver = '/usr/local/bin/chromedriver'\n",
    "ffiec_url = 'https://geomap.ffiec.gov/FFIECGeocMap/GeocodeMap1.aspx'\n",
    "\n",
    "working_dir = '/Users/user/Desktop/Jupyter Notebook/Carmax_project'\n",
    "os.chdir(working_dir)"
   ]
  },
  {
   "cell_type": "code",
   "execution_count": 51,
   "metadata": {},
   "outputs": [],
   "source": [
    "driver = webdriver.Chrome(executable_path = path_to_chromedriver)\n",
    "driver.get(ffiec_url)\n",
    "driver.implicitly_wait(5) #seconds"
   ]
  },
  {
   "cell_type": "code",
   "execution_count": 74,
   "metadata": {},
   "outputs": [],
   "source": [
    "# Read in Excel Spreadsheet\n",
    "addr = pd.read_excel('carmax_addr.xlsx', dtype={'Zip': str}) "
   ]
  },
  {
   "cell_type": "code",
   "execution_count": 53,
   "metadata": {},
   "outputs": [],
   "source": [
    "fips = []\n",
    "\n",
    "for i in range(len(addr)):\n",
    "    \n",
    "    address = str(addr['Street_Addr'][i]) + \", \" + str(addr['State'][i]) + \" \" + str(addr['Zip'][i])\n",
    "                \n",
    "    driver.find_element_by_id('Address').send_keys(address)\n",
    "    driver.find_element_by_id('btnSearch_label').click()\n",
    "    \n",
    "    time.sleep(3)\n",
    "    \n",
    "    state = driver.find_element_by_id('StateCode').text\n",
    "    county = driver.find_element_by_id('CountyCode').text\n",
    "    \n",
    "    fips.append(state + county)\n",
    "    driver.find_element_by_id('Address').clear()\n",
    "    \n",
    "    time.sleep(1)\n",
    "        "
   ]
  },
  {
   "cell_type": "code",
   "execution_count": 72,
   "metadata": {},
   "outputs": [],
   "source": [
    "addr.to_excel(\"carmax_addr2.xlsx\")"
   ]
  }
 ],
 "metadata": {
  "kernelspec": {
   "display_name": "Python 3",
   "language": "python",
   "name": "python3"
  },
  "language_info": {
   "codemirror_mode": {
    "name": "ipython",
    "version": 3
   },
   "file_extension": ".py",
   "mimetype": "text/x-python",
   "name": "python",
   "nbconvert_exporter": "python",
   "pygments_lexer": "ipython3",
   "version": "3.8.8"
  },
  "toc": {
   "base_numbering": 1,
   "nav_menu": {},
   "number_sections": true,
   "sideBar": true,
   "skip_h1_title": false,
   "title_cell": "Table of Contents",
   "title_sidebar": "Contents",
   "toc_cell": false,
   "toc_position": {},
   "toc_section_display": true,
   "toc_window_display": false
  }
 },
 "nbformat": 4,
 "nbformat_minor": 4
}
